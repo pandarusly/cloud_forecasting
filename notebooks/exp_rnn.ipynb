{
 "cells": [
  {
   "cell_type": "code",
   "execution_count": null,
   "metadata": {},
   "outputs": [],
   "source": [
    "import hydra\n",
    "import rootutils\n",
    "rootutils.setup_root(\"../\", indicator=\".project-root\", pythonpath=True)\n",
    "import os\n",
    "os.chdir(\"../\")\n"
   ]
  },
  {
   "cell_type": "code",
   "execution_count": null,
   "metadata": {},
   "outputs": [],
   "source": [
    "from omegaconf import OmegaConf\n",
    "config = r\"./data/data_cloud/config.yaml\"\n",
    "config = OmegaConf.load(config)\n",
    "config.data.train_config.data_dir=\"./data/data_cloud/H8JPEG_valid\"\n",
    "config.data.val_config.data_dir=\"./data/data_cloud/validate_croped\"\n",
    "config.data.batch_size = 1\n",
    "config.data.batch_size_val = 1\n",
    "ckpt = r\"./data/data_cloud/step_1605_loss0.082.ckpt\""
   ]
  },
  {
   "cell_type": "code",
   "execution_count": null,
   "metadata": {},
   "outputs": [],
   "source": [
    "data_module = hydra.utils.instantiate(config.data)\n",
    "data_module.setup()\n",
    "batch_sample = next(iter(data_module.train_dataloader()))"
   ]
  },
  {
   "cell_type": "code",
   "execution_count": null,
   "metadata": {},
   "outputs": [],
   "source": [
    "batch_sample.keys()"
   ]
  },
  {
   "cell_type": "code",
   "execution_count": null,
   "metadata": {},
   "outputs": [],
   "source": [
    "batch_sample[\"images\"].shape"
   ]
  },
  {
   "cell_type": "code",
   "execution_count": null,
   "metadata": {},
   "outputs": [],
   "source": [
    "from src.utils import show_video_line,show_video_gif_multiple,show_video_gif_single\n",
    "show_video_line(batch_sample[\"images\"][0].numpy(), ncols=12, vmax=0.6, cbar=False, out_path=None, format='png', use_rgb=True)"
   ]
  },
  {
   "cell_type": "code",
   "execution_count": null,
   "metadata": {},
   "outputs": [],
   "source": [
    "import torch\n",
    "module = hydra.utils.instantiate(config.model)\n",
    "module.load_state_dict( torch.load(ckpt,map_location=\"cpu\")[\"state_dict\"])"
   ]
  },
  {
   "cell_type": "code",
   "execution_count": null,
   "metadata": {},
   "outputs": [],
   "source": [
    "img_gen, logs  = module.RNN_test_step(batch_sample, \"val\")"
   ]
  },
  {
   "cell_type": "code",
   "execution_count": null,
   "metadata": {},
   "outputs": [],
   "source": [
    "show_video_gif_single"
   ]
  },
  {
   "cell_type": "code",
   "execution_count": null,
   "metadata": {},
   "outputs": [],
   "source": [
    "from src.utils import show_video_gif_multiple\n",
    "\n",
    "example_idx = 0\n",
    "show_video_gif_multiple(inputs[example_idx], trues[example_idx], preds[example_idx], use_rgb=True, out_path='example.gif')"
   ]
  }
 ],
 "metadata": {
  "language_info": {
   "name": "python"
  },
  "orig_nbformat": 4
 },
 "nbformat": 4,
 "nbformat_minor": 2
}
